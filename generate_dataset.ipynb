{
 "cells": [
  {
   "cell_type": "code",
   "execution_count": 1,
   "metadata": {},
   "outputs": [],
   "source": [
    "from bs4 import BeautifulSoup"
   ]
  },
  {
   "cell_type": "code",
   "execution_count": 14,
   "metadata": {},
   "outputs": [
    {
     "name": "stdout",
     "output_type": "stream",
     "text": [
      "[(' Abbey, A. & Andrews, F. M. ', 'author'), (' ', None), (' Modeling the psychological determinants of life quality. ', 'title'), (' ', None), (' Social Indicators Research ', 'journal'), (', ', None), (' 16, 1, ', 'volume'), (' ', None), (' 1985. ', 'date'), ('\\n', None)]\n"
     ]
    }
   ],
   "source": [
    "with open('raw_datasets/citeseerx.tagged.txt', 'r') as f:\n",
    "    for l in f:\n",
    "        soup = BeautifulSoup(l, 'lxml')\n",
    "        childs = soup.find('body').children\n",
    "        string_tag_pairs = [(t.string, t.name) for t in childs]\n",
    "        print(string_tag_pairs)\n",
    "        break\n"
   ]
  },
  {
   "cell_type": "code",
   "execution_count": null,
   "metadata": {},
   "outputs": [],
   "source": []
  }
 ],
 "metadata": {
  "kernelspec": {
   "display_name": "Python 3",
   "language": "python",
   "name": "python3"
  },
  "language_info": {
   "codemirror_mode": {
    "name": "ipython",
    "version": 3
   },
   "file_extension": ".py",
   "mimetype": "text/x-python",
   "name": "python",
   "nbconvert_exporter": "python",
   "pygments_lexer": "ipython3",
   "version": "3.7.1"
  }
 },
 "nbformat": 4,
 "nbformat_minor": 2
}
